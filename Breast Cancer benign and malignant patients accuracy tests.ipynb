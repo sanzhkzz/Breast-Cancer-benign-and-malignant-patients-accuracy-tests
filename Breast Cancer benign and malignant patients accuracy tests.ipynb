{
 "cells": [
  {
   "cell_type": "code",
   "execution_count": 1,
   "metadata": {},
   "outputs": [],
   "source": [
    "import os\n",
    "import pandas as pd\n",
    "import numpy as np\n",
    "os.chdir(r'C:\\Users\\фора\\Desktop\\irdm\\assignment2')\n",
    "test=pd.read_csv(r'test.csv',index_col='Unnamed: 0')\n",
    "train=pd.read_csv(r'train.csv',index_col='Unnamed: 0')\n",
    "y=pd.read_csv(r'train_answers.csv',index_col='Unnamed: 0')\n",
    "answers=pd.read_csv(r'real_answers_for_test.csv',index_col='Unnamed: 0')"
   ]
  },
  {
   "cell_type": "code",
   "execution_count": 2,
   "metadata": {},
   "outputs": [
    {
     "name": "stdout",
     "output_type": "stream",
     "text": [
      "train shape : (426, 31)\n",
      "test shape : (143, 31)\n",
      "y shape : (426, 1)\n",
      "answers shape : (143, 1)\n"
     ]
    }
   ],
   "source": [
    "print('train shape :', train.shape)\n",
    "print('test shape :', test.shape)\n",
    "print('y shape :', y.shape)\n",
    "print('answers shape :', answers.shape)"
   ]
  },
  {
   "cell_type": "code",
   "execution_count": 3,
   "metadata": {},
   "outputs": [
    {
     "data": {
      "text/html": [
       "<div>\n",
       "<style scoped>\n",
       "    .dataframe tbody tr th:only-of-type {\n",
       "        vertical-align: middle;\n",
       "    }\n",
       "\n",
       "    .dataframe tbody tr th {\n",
       "        vertical-align: top;\n",
       "    }\n",
       "\n",
       "    .dataframe thead th {\n",
       "        text-align: right;\n",
       "    }\n",
       "</style>\n",
       "<table border=\"1\" class=\"dataframe\">\n",
       "  <thead>\n",
       "    <tr style=\"text-align: right;\">\n",
       "      <th></th>\n",
       "      <th>diagnosis</th>\n",
       "    </tr>\n",
       "  </thead>\n",
       "  <tbody>\n",
       "    <tr>\n",
       "      <th>421</th>\n",
       "      <td>B</td>\n",
       "    </tr>\n",
       "    <tr>\n",
       "      <th>47</th>\n",
       "      <td>M</td>\n",
       "    </tr>\n",
       "    <tr>\n",
       "      <th>292</th>\n",
       "      <td>B</td>\n",
       "    </tr>\n",
       "    <tr>\n",
       "      <th>186</th>\n",
       "      <td>M</td>\n",
       "    </tr>\n",
       "    <tr>\n",
       "      <th>414</th>\n",
       "      <td>M</td>\n",
       "    </tr>\n",
       "    <tr>\n",
       "      <th>...</th>\n",
       "      <td>...</td>\n",
       "    </tr>\n",
       "    <tr>\n",
       "      <th>232</th>\n",
       "      <td>B</td>\n",
       "    </tr>\n",
       "    <tr>\n",
       "      <th>413</th>\n",
       "      <td>B</td>\n",
       "    </tr>\n",
       "    <tr>\n",
       "      <th>514</th>\n",
       "      <td>M</td>\n",
       "    </tr>\n",
       "    <tr>\n",
       "      <th>244</th>\n",
       "      <td>M</td>\n",
       "    </tr>\n",
       "    <tr>\n",
       "      <th>415</th>\n",
       "      <td>B</td>\n",
       "    </tr>\n",
       "  </tbody>\n",
       "</table>\n",
       "<p>143 rows × 1 columns</p>\n",
       "</div>"
      ],
      "text/plain": [
       "    diagnosis\n",
       "421         B\n",
       "47          M\n",
       "292         B\n",
       "186         M\n",
       "414         M\n",
       "..        ...\n",
       "232         B\n",
       "413         B\n",
       "514         M\n",
       "244         M\n",
       "415         B\n",
       "\n",
       "[143 rows x 1 columns]"
      ]
     },
     "execution_count": 3,
     "metadata": {},
     "output_type": "execute_result"
    }
   ],
   "source": [
    "answers"
   ]
  },
  {
   "cell_type": "code",
   "execution_count": 4,
   "metadata": {},
   "outputs": [
    {
     "data": {
      "text/plain": [
       "143"
      ]
     },
     "execution_count": 4,
     "metadata": {},
     "output_type": "execute_result"
    }
   ],
   "source": [
    "one_neighbor_list=[]\n",
    "#creating list for collecting one_neighbor list distances \n",
    "for j in range (len(test)):\n",
    "    distlist=[] \n",
    "    for i in range (len(train)):\n",
    "        #np.linalg.norm for euclidean distance method \n",
    "        distance=np.linalg.norm(test.iloc[j]-train.iloc[i])\n",
    "        #appending all distances \n",
    "        distlist.append(distance)\n",
    "        #here we do append all the minimum distances\n",
    "    one_neighbor_list.append(y.iloc[distlist.index(min(distlist))])\n",
    "\n",
    "\n",
    "len(one_neighbor_list)"
   ]
  },
  {
   "cell_type": "markdown",
   "metadata": {},
   "source": [
    "In this example I just firstly created method for one_neighbor collection , so I decided to put it too\n",
    "\n",
    "\n",
    "In the next cells I created universal function for all types\n",
    "\n"
   ]
  },
  {
   "cell_type": "code",
   "execution_count": 5,
   "metadata": {},
   "outputs": [],
   "source": [
    "one_neighbor_list=pd.DataFrame(one_neighbor_list)"
   ]
  },
  {
   "cell_type": "code",
   "execution_count": 6,
   "metadata": {},
   "outputs": [
    {
     "name": "stdout",
     "output_type": "stream",
     "text": [
      "\n"
     ]
    },
    {
     "data": {
      "text/plain": [
       "0.958041958041958"
      ]
     },
     "execution_count": 6,
     "metadata": {},
     "output_type": "execute_result"
    }
   ],
   "source": [
    "x=0\n",
    "for f, b in zip(one_neighbor_list['Diagnosis'], answers['diagnosis']):\n",
    "    if(f!=b):\n",
    "        x=x+1\n",
    "print()   \n",
    "accuracy_for_one_neighbor=((len(one_neighbor_list)-x))/len(one_neighbor_list)\n",
    "accuracy_for_one_neighbor"
   ]
  },
  {
   "cell_type": "code",
   "execution_count": 7,
   "metadata": {},
   "outputs": [],
   "source": [
    "import numpy as np\n",
    "from scipy.stats import mode\n",
    "\n",
    "def predict(train, y , test, k):\n",
    "    labels_labels=[]\n",
    "    dist_labels = []     \n",
    "    for j in range(len(test)): \n",
    "        distlist = []\n",
    "        for i in range(len(train)): \n",
    "            distances = np.linalg.norm(test.iloc[j]-train.iloc[i])\n",
    "            #Calculating the distance\n",
    "            distlist.append(distances) \n",
    "        distlist = np.array(distlist)    \n",
    "        #Sorting the array while preserving the index\n",
    "        #Keeping the first K datapoints\n",
    "        dist = np.argsort(distlist)[:k] \n",
    "        dist_labels.append(y.iloc[dist])\n",
    "\n",
    "        #Labels of the K datapoints from above\n",
    "        labels = y.iloc[dist]\n",
    "         \n",
    "        #Majority voting\n",
    "        lab = mode(labels) \n",
    "        lab = lab.mode[0]\n",
    "        labels_labels.append(lab)\n",
    " \n",
    "    return labels_labels\n",
    "\n",
    "\n",
    "\n"
   ]
  },
  {
   "cell_type": "code",
   "execution_count": 8,
   "metadata": {},
   "outputs": [],
   "source": [
    "def accuracy_test(n_neighbors,answers):\n",
    "    x=0\n",
    "    #in the following for loop we do comparison elements of our collections with the real answers \n",
    "    for f, b in zip(n_neighbors[0], answers['diagnosis']):\n",
    "        #if they are not equal , so then we count number of failures\n",
    "        if(f!=b):\n",
    "            x=x+1\n",
    "    print()   \n",
    "    #simple formula for printing out accuracy \n",
    "    accuracy_for_n_neighbor=((len(n_neighbors)-x))/len(n_neighbors)\n",
    "    return accuracy_for_n_neighbor\n",
    "\n",
    "#Using this function for all KNN numbers \n",
    "one_neighbors=pd.DataFrame(predict(train,y,test,1))\n",
    "three_neighbors=pd.DataFrame(predict(train,y,test,3))\n",
    "five_neighbors=pd.DataFrame(predict(train,y,test,5))\n",
    "six_neighbors=pd.DataFrame(predict(train,y,test,6))\n",
    "seven_neighbors=pd.DataFrame(predict(train,y,test,7))\n",
    "nine_neighbors=pd.DataFrame(predict(train,y,test,9))"
   ]
  },
  {
   "cell_type": "code",
   "execution_count": 9,
   "metadata": {},
   "outputs": [
    {
     "name": "stdout",
     "output_type": "stream",
     "text": [
      "\n",
      "Accuracy test for 1 : 0.958041958041958\n",
      "\n",
      "Accuracy test for 3 : 0.9440559440559441\n",
      "\n",
      "Accuracy test for 5 : 0.9440559440559441\n",
      "\n",
      "Accuracy test for 6 : 0.958041958041958\n",
      "\n",
      "Accuracy test for 7 : 0.951048951048951\n",
      "\n",
      "Accuracy test for 9 : 0.958041958041958\n"
     ]
    }
   ],
   "source": [
    "#Those are the results of my calculations\n",
    "print('Accuracy test for 1 :',accuracy_test(one_neighbors,answers))\n",
    "print('Accuracy test for 3 :',accuracy_test(three_neighbors,answers))\n",
    "print('Accuracy test for 5 :',accuracy_test(five_neighbors,answers))\n",
    "print('Accuracy test for 6 :',accuracy_test(six_neighbors,answers))\n",
    "print('Accuracy test for 7 :',accuracy_test(seven_neighbors,answers))\n",
    "print('Accuracy test for 9 :',accuracy_test(nine_neighbors,answers))"
   ]
  },
  {
   "cell_type": "code",
   "execution_count": 10,
   "metadata": {},
   "outputs": [
    {
     "name": "stdout",
     "output_type": "stream",
     "text": [
      "\n",
      "\n",
      "\n",
      "\n",
      "\n",
      "\n"
     ]
    }
   ],
   "source": [
    "#Storing to the new variables for convenience . Because it's actually difficult to text them inside y in plotting\n",
    "acc_1=accuracy_test(one_neighbors,answers)\n",
    "acc_3=accuracy_test(three_neighbors,answers)\n",
    "acc_5=accuracy_test(five_neighbors,answers)\n",
    "acc_6=accuracy_test(six_neighbors,answers)\n",
    "acc_7=accuracy_test(seven_neighbors,answers)\n",
    "acc_9=accuracy_test(nine_neighbors,answers)"
   ]
  },
  {
   "cell_type": "code",
   "execution_count": 11,
   "metadata": {},
   "outputs": [
    {
     "data": {
      "text/plain": [
       "[<matplotlib.lines.Line2D at 0x1cfaf3c85b0>]"
      ]
     },
     "execution_count": 11,
     "metadata": {},
     "output_type": "execute_result"
    },
    {
     "data": {
      "image/png": "[encoded data removed]",
      "text/plain": [
       "<Figure size 432x288 with 1 Axes>"
      ]
     },
     "metadata": {
      "needs_background": "light"
     },
     "output_type": "display_data"
    }
   ],
   "source": [
    "import matplotlib.pyplot as plt\n",
    "#plotting variables along with their number of neighbors\n",
    "y=[acc_1,acc_3,acc_5,acc_6,acc_7,acc_9]\n",
    "x=[1,3,5,6,7,9]\n",
    "plt.plot(x,y)"
   ]
  },
  {
   "cell_type": "markdown",
   "metadata": {},
   "source": [
    "# PART 2"
   ]
  },
  {
   "cell_type": "code",
   "execution_count": 25,
   "metadata": {},
   "outputs": [],
   "source": [
    "import os\n",
    "import pandas as pd\n",
    "import numpy as np\n",
    "from os.path import dirname, join as pjoin\n",
    "import scipy.io\n",
    "from sklearn.cluster import KMeans\n",
    "from sklearn.metrics import pairwise_distances_argmin_min\n",
    "import matplotlib.pyplot as plt \n"
   ]
  },
  {
   "cell_type": "code",
   "execution_count": 26,
   "metadata": {},
   "outputs": [],
   "source": [
    "#importing dataset\n",
    "mat = scipy.io.loadmat('ex7data2.mat')\n",
    "#defining it as X\n",
    "X=mat['X']\n",
    "#number of clusters\n",
    "K = 3\n",
    "#initial points that were posted on moodle\n",
    "initial_centroids = np.array([[3, 3], [6, 2], [8, 5]])"
   ]
  },
  {
   "cell_type": "code",
   "execution_count": 27,
   "metadata": {},
   "outputs": [
    {
     "data": {
      "text/plain": [
       "array([[0.],\n",
       "       [2.],\n",
       "       [1.]])"
      ]
     },
     "execution_count": 27,
     "metadata": {},
     "output_type": "execute_result"
    }
   ],
   "source": [
    "m= X.shape[0]\n",
    "n= X.shape[1]\n",
    "\n",
    "def findClosestCentroids(X, centroids):\n",
    "\n",
    "    K = centroids.shape[0]\n",
    "    \n",
    "    idx = np.zeros((m, 1))\n",
    "\n",
    "    for i in range(m):\n",
    "        distances = np.linalg.norm(X[i] - centroids, axis=1)\n",
    "        dist = np.argmin(distances)\n",
    "        idx[i] = dist\n",
    "    \n",
    "    return idx\n",
    "\n",
    "\n",
    "idx = findClosestCentroids(X, initial_centroids)\n",
    "#result as we had in screenshot \n",
    "idx[:3]"
   ]
  },
  {
   "cell_type": "code",
   "execution_count": 28,
   "metadata": {},
   "outputs": [
    {
     "name": "stdout",
     "output_type": "stream",
     "text": [
      "Centroids computed after initial finding of closest centroids: \n",
      "\n",
      "[[2.42830111 3.15792418]\n",
      " [5.81350331 2.63365645]\n",
      " [7.11938687 3.6166844 ]]\n"
     ]
    }
   ],
   "source": [
    "def computeCentroids(X, idx, K):\n",
    "    \n",
    "    centroids = np.zeros((K, n))\n",
    "\n",
    "    for k in range(K):\n",
    "        centroids[k, :] = np.mean(X[idx.ravel() == k, :], axis=0)\n",
    "    \n",
    "    return centroids\n",
    "\n",
    "print('Centroids computed after initial finding of closest centroids: ')\n",
    "print()\n",
    "centroids = computeCentroids(X, idx, K)\n",
    "print(centroids)\n"
   ]
  },
  {
   "cell_type": "code",
   "execution_count": 29,
   "metadata": {},
   "outputs": [
    {
     "name": "stdout",
     "output_type": "stream",
     "text": [
      "[[1.95399466 5.02557006]\n",
      " [3.04367119 1.01541041]\n",
      " [6.03366736 3.00052511]]\n"
     ]
    }
   ],
   "source": [
    "#Thing as was given in screenshot\n",
    "max_iters=10\n",
    "initial_centroids = np.array([[3, 3], [6, 2], [8, 5]])\n",
    "#after 10 iteration cycles \n",
    "for i in range(max_iters):\n",
    "    idx = findClosestCentroids(X, centroids)\n",
    "    centroids = computeCentroids(X, idx, K)\n",
    "    \n",
    "print(centroids)\n",
    "#We had such result "
   ]
  },
  {
   "cell_type": "code",
   "execution_count": 30,
   "metadata": {},
   "outputs": [
    {
     "data": {
      "image/png": "[encoded data removed]",
      "text/plain": [
       "<Figure size 720x432 with 1 Axes>"
      ]
     },
     "metadata": {
      "needs_background": "light"
     },
     "output_type": "display_data"
    }
   ],
   "source": [
    "#I could not highlight marker color , so I hope you will see them in scatterplot , I actually plot them))\n",
    "c=[0, 1, 2]\n",
    "fig = plt.figure(figsize=(10,6))\n",
    "plt.scatter(X[:, 0], X[:, 1], c=idx)\n",
    "plt.scatter(centroids[:, 0], centroids[:, 1], c=c, marker=\"+\",s=400,linewidth=5)\n",
    "plt.show()"
   ]
  }
 ],
 "metadata": {
  "kernelspec": {
   "display_name": "Python 3",
   "language": "python",
   "name": "python3"
  },
  "language_info": {
   "codemirror_mode": {
    "name": "ipython",
    "version": 3
   },
   "file_extension": ".py",
   "mimetype": "text/x-python",
   "name": "python",
   "nbconvert_exporter": "python",
   "pygments_lexer": "ipython3",
   "version": "3.8.5"
  }
 },
 "nbformat": 4,
 "nbformat_minor": 4
}
